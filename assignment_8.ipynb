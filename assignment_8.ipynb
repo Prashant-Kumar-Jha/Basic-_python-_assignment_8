{
 "cells": [
  {
   "cell_type": "code",
   "execution_count": null,
   "metadata": {},
   "outputs": [],
   "source": [
    "Q1 -  Is the Python Standard Library included with PyInputPlus?\n",
    "\n",
    "ans - PyInputPlus is not a part of the Python Standard Library"
   ]
  },
  {
   "cell_type": "code",
   "execution_count": null,
   "metadata": {},
   "outputs": [],
   "source": [
    "Q2 - Why is PyInputPlus often imported as pyip with import pyinputplus?\n",
    "\n",
    "Ans - You can import the module with import pyinputplus as pyip so that you can enter a \n",
    "     shorter name when calling the module’s functions.PyInputPlus has functions for entering a variety of input,\n",
    "     including strings, numbers,"
   ]
  },
  {
   "cell_type": "code",
   "execution_count": null,
   "metadata": {},
   "outputs": [],
   "source": [
    "Q3 - How do you distinguish between inputInt() and inputFloat()?\n",
    "\n",
    "Ans - inputInt() : Accepts an integer value. This also takes additional parameters 'min', 'max', 'greaterThan'\n",
    "    and 'lessThan'for bounds.Returns an int. inputFloat() : Accepts a floating-point numeric value."
   ]
  },
  {
   "cell_type": "code",
   "execution_count": null,
   "metadata": {},
   "outputs": [],
   "source": [
    "Q4 - Using PyInputPlus, how do you ensure that the user enters a whole number between 0 and 99?\n",
    "\n",
    "Ans -A  By using pyip.inputint(min=1, max=100)\n",
    "     B  By using pyip.inputint(min=0, max=99)\n",
    "     C  By using pyip.inputint(max=100)\n",
    "     D  By using pyip.inputint( )"
   ]
  },
  {
   "cell_type": "code",
   "execution_count": null,
   "metadata": {},
   "outputs": [],
   "source": [
    "Q5 - What is transferred to the keyword arguments allowRegexes and blockRegexes?\n",
    "\n",
    "ANS - We can set a list of regex strings to the allowRegexes parameter to the PyInputPlus functions.\n",
    "      In the code above, we allow phone numbers to be entered as the input value\n",
    "      by setting a list of regex with the phone number regex to it"
   ]
  },
  {
   "cell_type": "code",
   "execution_count": null,
   "metadata": {},
   "outputs": [],
   "source": [
    "Q6 - If a blank input is entered three times, what does inputStr(limit=3) do?\n",
    "\n",
    "ANS - Asking the user for input until they give a valid response"
   ]
  },
  {
   "cell_type": "code",
   "execution_count": null,
   "metadata": {},
   "outputs": [],
   "source": [
    "Q7 -  If blank input is entered three times, what does inputStr(limit=3, default='hello') do?\n",
    "\n",
    "Ans -  Asking the user for input until they give a valid response"
   ]
  }
 ],
 "metadata": {
  "kernelspec": {
   "display_name": "Python 3",
   "language": "python",
   "name": "python3"
  },
  "language_info": {
   "codemirror_mode": {
    "name": "ipython",
    "version": 3
   },
   "file_extension": ".py",
   "mimetype": "text/x-python",
   "name": "python",
   "nbconvert_exporter": "python",
   "pygments_lexer": "ipython3",
   "version": "3.8.5"
  }
 },
 "nbformat": 4,
 "nbformat_minor": 4
}
